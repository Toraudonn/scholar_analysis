{
 "cells": [
  {
   "cell_type": "markdown",
   "metadata": {},
   "source": [
    "### インポート"
   ]
  },
  {
   "cell_type": "code",
   "execution_count": 67,
   "metadata": {
    "collapsed": false
   },
   "outputs": [],
   "source": [
    " #-*- coding: utf-8 -*-\n",
    "import pandas as pd\n",
    "import numpy as np\n",
    "import gensim\n",
    "from sklearn.cluster import KMeans"
   ]
  },
  {
   "cell_type": "markdown",
   "metadata": {},
   "source": [
    "### 事前付与ジャンルのリストを作成"
   ]
  },
  {
   "cell_type": "code",
   "execution_count": 17,
   "metadata": {
    "collapsed": false
   },
   "outputs": [],
   "source": [
    "pre_genre = [\"csAI\", \"csCC\", \"csCG\", \"csCL\", \"csCV\", \"csDS\", \"csGT\", \"csMA\", \"csSD\", \"statAP\", \"statCO\", \"statME\", \"statML\", \"statTH\"]"
   ]
  },
  {
   "cell_type": "markdown",
   "metadata": {},
   "source": [
    "### CSV読み込み"
   ]
  },
  {
   "cell_type": "code",
   "execution_count": 2,
   "metadata": {
    "collapsed": false
   },
   "outputs": [],
   "source": [
    "df = pd.read_csv(\"./csv/csAI.csv\", header=None)"
   ]
  },
  {
   "cell_type": "markdown",
   "metadata": {},
   "source": [
    "### データフレームにカラム名をつける"
   ]
  },
  {
   "cell_type": "code",
   "execution_count": 5,
   "metadata": {
    "collapsed": false,
    "scrolled": true
   },
   "outputs": [],
   "source": [
    "df.columns = [\"プログラム実行日時\", \"論文更新日時\", \"論文リンク\", \"PDFリンク\", \"論文タイトル\", \"サマリ\", \"著者\", \"事前付与ジャンル\"]"
   ]
  },
  {
   "cell_type": "code",
   "execution_count": 19,
   "metadata": {
    "collapsed": false
   },
   "outputs": [],
   "source": [
    "documents = list(df[\"論文タイトル\"]) #リスト化"
   ]
  },
  {
   "cell_type": "code",
   "execution_count": 20,
   "metadata": {
    "collapsed": false
   },
   "outputs": [],
   "source": [
    "texts = [[word for word in document.lower().split()]for document in documents] #単語ごとに抽出"
   ]
  },
  {
   "cell_type": "markdown",
   "metadata": {},
   "source": [
    "### 辞書作成"
   ]
  },
  {
   "cell_type": "code",
   "execution_count": 27,
   "metadata": {
    "collapsed": true
   },
   "outputs": [],
   "source": [
    "dictionary = corpora.Dictionary(texts)"
   ]
  },
  {
   "cell_type": "code",
   "execution_count": 28,
   "metadata": {
    "collapsed": false
   },
   "outputs": [
    {
     "name": "stdout",
     "output_type": "stream",
     "text": [
      "Dictionary(530 unique tokens: ['between', 'what', 'softmax', 'joint', 'visualizing']...)\n"
     ]
    }
   ],
   "source": [
    "print (dictionary)"
   ]
  },
  {
   "cell_type": "markdown",
   "metadata": {},
   "source": [
    "### 辞書のIDを確認"
   ]
  },
  {
   "cell_type": "code",
   "execution_count": 65,
   "metadata": {
    "collapsed": false
   },
   "outputs": [],
   "source": [
    "#print(dictionary.token2id)"
   ]
  },
  {
   "cell_type": "markdown",
   "metadata": {},
   "source": [
    "### Bag of words のコーパスを作成"
   ]
  },
  {
   "cell_type": "code",
   "execution_count": 31,
   "metadata": {
    "collapsed": true
   },
   "outputs": [],
   "source": [
    "corpus = [dictionary.doc2bow(text) for text in texts]"
   ]
  },
  {
   "cell_type": "code",
   "execution_count": 34,
   "metadata": {
    "collapsed": true
   },
   "outputs": [],
   "source": [
    "tfidf = models.TfidfModel(corpus)"
   ]
  },
  {
   "cell_type": "code",
   "execution_count": 35,
   "metadata": {
    "collapsed": false
   },
   "outputs": [
    {
     "name": "stdout",
     "output_type": "stream",
     "text": [
      "TfidfModel(num_docs=100, num_nnz=855)\n"
     ]
    }
   ],
   "source": [
    "print (tfidf)"
   ]
  },
  {
   "cell_type": "code",
   "execution_count": 38,
   "metadata": {
    "collapsed": false
   },
   "outputs": [],
   "source": [
    "corpus_tfidf = tfidf[corpus]"
   ]
  },
  {
   "cell_type": "markdown",
   "metadata": {},
   "source": [
    "### ベクトル化"
   ]
  },
  {
   "cell_type": "code",
   "execution_count": 68,
   "metadata": {
    "collapsed": false
   },
   "outputs": [],
   "source": [
    "vecs = gensim.matutils.corpus2dense(corpus_tfidf, num_terms=530) #スパースなリスト形式を密にしてsklearnに適用可能な形に"
   ]
  },
  {
   "cell_type": "markdown",
   "metadata": {},
   "source": [
    "### k-means クラスタリング"
   ]
  },
  {
   "cell_type": "code",
   "execution_count": 69,
   "metadata": {
    "collapsed": false
   },
   "outputs": [],
   "source": [
    "clusters = KMeans(n_clusters=6, random_state=0).fit_predict(vecs)"
   ]
  },
  {
   "cell_type": "code",
   "execution_count": 71,
   "metadata": {
    "collapsed": false
   },
   "outputs": [
    {
     "name": "stdout",
     "output_type": "stream",
     "text": [
      "1 Asymmetric Tri-training for Unsupervised Domain Adaptation\n",
      "1 Differentiable Learning of Logical Rules for Knowledge Base Completion\n",
      "1 Balancing Lexicographic Fairness and a Utilitarian Objective with\n",
      "  Application to Kidney Exchange\n",
      "1 Synergistic Team Composition\n",
      "1 DeepNAT: Deep Convolutional Neural Network for Segmenting Neuroanatomy\n",
      "1 Reinforcement Learning with Deep Energy-Based Policies\n",
      "1 Criticality and Deep Learning Part I: Theory vs. Empirics\n",
      "1 Maximum-Likelihood Augmented Discrete Generative Adversarial Networks\n",
      "4 Stochastic Variance Reduction Methods for Policy Evaluation\n",
      "4 Contractibility for Open Global Constraints\n",
      "2 Rationalization: A Neural Machine Translation Approach to Generating\n",
      "  Natural Language Explanations\n",
      "1 Measuring #GamerGate: A Tale of Hate Sexism and Bullying\n",
      "1 Embedding Knowledge Graphs Based on Transitivity and Antisymmetry of\n",
      "  Rules\n",
      "1 Robot gains Social Intelligence through Multimodal Deep Reinforcement\n",
      "  Learning\n",
      "1 Sequence-based Multimodal Apprenticeship Learning For Robot Perception\n",
      "  and Decision Making\n",
      "5 Strongly-Typed Agents are Guaranteed to Interact Safely\n",
      "1 A Probabilistic Framework for Location Inference from Social Media\n",
      "1 Ontologies in System Engineering: a Field Report\n",
      "5 A DIKW Paradigm to Cognitive Engineering\n",
      "1 Proactive Resource Management in LTE-U Systems: A Deep Learning\n",
      "  Perspective\n",
      "1 Theoretical and Experimental Analysis of the Canadian Traveler Problem\n",
      "2 A Realistic Dataset for the Smart Home Device Scheduling Problem for\n",
      "  DCOPs\n",
      "1 Realization of Ontology Web Search Engine\n",
      "1 Transferring Face Verification Nets To Pain and Expression Regression\n",
      "0 Solving DCOPs with Distributed Large Neighborhood Search\n",
      "1 Knowledge Graph Completion via Complex Tensor Factorization\n",
      "1 Causal Inference by Stochastic Complexity\n",
      "1 Task-driven Visual Saliency and Attention-based Visual Question\n",
      "  Answering\n",
      "1 Unsupervised Diverse Colorization via Generative Adversarial Networks\n",
      "3 An Integer Programming Model for Binary Knapsack Problem with\n",
      "  Value-Related Dependencies among Elements\n",
      "1 Delving Deeper into MOOC Student Dropout Prediction\n",
      "1 Synthesizing Imperative Programs for Introductory Programming\n",
      "  Assignments\n",
      "1 Towards a Common Implementation of Reinforcement Learning for Multiple\n",
      "  Robotic Tasks\n",
      "3 Sample Efficient Policy Search for Optimal Stopping Domains\n",
      "3 Beating the World's Best at Super Smash Bros. with Deep Reinforcement\n",
      "  Learning\n",
      "3 The Dialog State Tracking Challenge with Bayesian Approach\n",
      "1 Learning to Repeat: Fine Grained Action Repetition for Deep\n",
      "  Reinforcement Learning\n",
      "1 Automatic Liver and Tumor Segmentation of CT and MRI Volumes using\n",
      "  Cascaded Fully Convolutional Neural Networks\n",
      "1 Using Redescription Mining to Relate Clinical and Biological\n",
      "  Characteristics of Cognitively Impaired and Alzheimer's Disease Patients\n",
      "1 Cosine Normalization: Using Cosine Similarity Instead of Dot Product in\n",
      "  Neural Networks\n",
      "1 Hemingway: Modeling Distributed Optimization Algorithms\n",
      "1 Revisiting Distributed Synchronous SGD\n",
      "1 The Absent-Minded Driver Problem Redux\n",
      "1 Polynomial Time Efficient Construction Heuristics for Vertex Separation\n",
      "  Minimization Problem\n",
      "1 Quadratic Upper Bound for Recursive Teaching Dimension of Finite VC\n",
      "  Classes\n",
      "1 Overview: Generalizations of Multi-Agent Path Finding to Real-World\n",
      "  Scenarios\n",
      "1 Threshold Constraints with Guarantees for Parity Objectives in Markov\n",
      "  Decision Processes\n",
      "1 Quantifying Program Bias\n",
      "1 Towards a Unified Taxonomy of Biclustering Methods\n",
      "1 Be Precise or Fuzzy: Learning the Meaning of Cardinals and Quantifiers\n",
      "  from Vision\n",
      "1 Direct Estimation of Information Divergence Using Nearest Neighbor\n",
      "  Ratios\n",
      "1 OntoMath Digital Ecosystem: Ontologies Mathematical Knowledge Analytics\n",
      "  and Management\n",
      "1 Reflexive Regular Equivalence for Bipartite Data\n",
      "1 Theoretical and Practical Advances on Smoothing for Extensive-Form Games\n",
      "1 Efficient Computation of Moments in Sum-Product Networks\n",
      "1 Visualizing Deep Neural Network Decisions: Prediction Difference\n",
      "  Analysis\n",
      "1 Local Search for Minimum Weight Dominating Set with Two-Level\n",
      "  Configuration Checking and Frequency Based Scoring Function\n",
      "1 Developing an ontology for the access to the contents of an archival\n",
      "  fonds: the case of the Catasto Gregoriano\n",
      "1 On the Discrepancy Between Kleinberg's Clustering Axioms and $k$-Means\n",
      "  Clustering Algorithm Behavior\n",
      "1 Theorem Proving Based on Semantics of DNA Strand Graph\n",
      "1 Frustratingly Short Attention Spans in Neural Language Modeling\n",
      "1 Efficient Multi-task Feature and Relationship Learning\n",
      "1 Entropy Non-increasing Games for the Improvement of Dataflow Programming\n",
      "1 Survey of Reasoning using Neural networks\n",
      "1 T-SKIRT: Online Estimation of Student Proficiency in an Adaptive\n",
      "  Learning System\n",
      "1 DAGER: Deep Age Gender and Emotion Recognition Using Convolutional\n",
      "  Neural Network\n",
      "1 On Detecting Adversarial Perturbations\n",
      "5 Constraint Answer Set Solver EZCSP and Why Integration Schemas Matter\n",
      "1 Data-Intensive Supercomputing in the Cloud: Global Analytics for\n",
      "  Satellite Imagery\n",
      "1 Cognitive Mapping and Planning for Visual Navigation\n",
      "1 Offline bilingual word vectors orthogonal transformations and the\n",
      "  inverted softmax\n",
      "1 Bilateral Multi-Perspective Matching for Natural Language Sentences\n",
      "1 Reservoir Computing Using Non-Uniform Binary Cellular Automata\n",
      "1 Is Big Data Sufficient for a Reliable Detection of Non-Technical Losses?\n",
      "1 On Seeking Consensus Between Document Similarity Measures\n",
      "4 Genetic and Memetic Algorithm with Diversity Equilibrium based on Greedy\n",
      "  Diversification\n",
      "4 Graph Neural Networks and Boolean Satisfiability\n",
      "4 Similarity Preserving Representation Learning for Time Series Analysis\n",
      "4 A Spacetime Approach to Generalized Cognitive Reasoning in Multi-scale\n",
      "  Learning\n",
      "4 Octopus: A Framework for Cost-Quality-Time Optimization in Crowdsourcing\n",
      "4 Group Scissor: Scaling Neuromorphic Computing Design to Big Neural\n",
      "  Networks\n",
      "1 A Minimax Algorithm Better Than Alpha-beta?: No and Yes\n",
      "1 Hybrid Code Networks: practical and efficient end-to-end dialog control\n",
      "  with supervised and reinforcement learning\n",
      "1 Modeling Semantic Expectation: Using Script Knowledge for Referent\n",
      "  Prediction\n",
      "1 Incremental Network Quantization: Towards Lossless CNNs with\n",
      "  Low-Precision Weights\n",
      "1 Multi-agent Reinforcement Learning in Sequential Social Dilemmas\n",
      "1 Answer Set Solving with Bounded Treewidth Revisited\n",
      "1 Phase Transitions of the Typical Algorithmic Complexity of the Random\n",
      "  Satisfiability Problem Studied with Linear Programming\n",
      "1 Graph Based Relational Features for Collective Classification\n",
      "1 Energy Saving Additive Neural Network\n",
      "1 Optimal Detection of Faulty Traffic Sensors Used in Route Planning\n",
      "1 Causal Regularization\n",
      "1 Automatic Rule Extraction from Long Short Term Memory Networks\n",
      "1 Deep Generalized Canonical Correlation Analysis\n",
      "1 Autonomous Braking System via Deep Reinforcement Learning\n",
      "1 A Historical Review of Forty Years of Research on CMAC\n",
      "1 Generating Multiple Hypotheses for Human 3D Pose Consistent with 2D\n",
      "  Joint Detections\n",
      "1 Propagation via Kernelization: The Vertex Cover Constraint\n",
      "1 Representations of language in a model of visually grounded speech\n",
      "  signal\n",
      "1 Learning what matters - Sampling interesting patterns\n"
     ]
    }
   ],
   "source": [
    "for doc, cls in zip(documents, clusters):\n",
    "    print (cls, doc)"
   ]
  },
  {
   "cell_type": "code",
   "execution_count": null,
   "metadata": {
    "collapsed": true
   },
   "outputs": [],
   "source": []
  }
 ],
 "metadata": {
  "kernelspec": {
   "display_name": "Python 3",
   "language": "python",
   "name": "python3"
  },
  "language_info": {
   "codemirror_mode": {
    "name": "ipython",
    "version": 3
   },
   "file_extension": ".py",
   "mimetype": "text/x-python",
   "name": "python",
   "nbconvert_exporter": "python",
   "pygments_lexer": "ipython3",
   "version": "3.5.2"
  }
 },
 "nbformat": 4,
 "nbformat_minor": 2
}
